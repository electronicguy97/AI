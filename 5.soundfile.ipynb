{
 "cells": [
  {
   "cell_type": "code",
   "execution_count": 1,
   "metadata": {},
   "outputs": [],
   "source": [
    "#사운드파일 읽고 쓰기에 가장 최적화된 패키지\n",
    "import soundfile as sf\n",
    "\n",
    "data, samplerate = sf.read('C:/data/cats_dog/cats_dogs/dog_barking_0.wav')\n",
    "sf.write('wav/dog_barking_0.flac', data, samplerate)"
   ]
  },
  {
   "cell_type": "code",
   "execution_count": 3,
   "metadata": {},
   "outputs": [],
   "source": [
    "#tell() 현재 커서의 위치를 반환하는 함수\n",
    "#seek() 해당 위치로 파일의 커서를 move\n",
    "#FPS (Frame Per Second): 초당 프레임 수, 주사율(Hz)\n",
    "#frame: 초당 영상수 또는 초당 사운드 유닛수\n",
    "#frame rate: 1초에 몇장이 보이느냐 => 프레임이 보여지는 속도,  1초 동안 사운드 속도 \n",
    "with sf.SoundFile('wav/cat_43.wav', 'r+') as f:    #r+ : 파일 읽고 쓰기\n",
    "    while f.tell() < f.frames:\n",
    "        pos = f.tell()\n",
    "        data = f.read(1024)\n",
    "        f.seek(pos)\n",
    "        f.write(data*2)"
   ]
  },
  {
   "cell_type": "code",
   "execution_count": 2,
   "metadata": {},
   "outputs": [],
   "source": [
    "import numpy as np\n",
    "import soundfile as sf\n",
    "\n",
    "rate = 44100\n",
    "data = np.random.uniform(-1, 1, size=(rate * 10, 2))\n",
    "\n",
    "# Write out audio as 24bit PCM WAV\n",
    "sf.write('wav/stereo_file.wav', data, rate, subtype='PCM_24')\n",
    "\n",
    "# Write out audio as 24bit Flac\n",
    "sf.write('wav/stereo_file.flac', data, rate, format='flac', subtype='PCM_24')\n",
    "\n",
    "# Write out audio as 16bit OGG\n",
    "sf.write('wav/stereo_file.ogg', data, rate, format='ogg', subtype='vorbis')"
   ]
  },
  {
   "cell_type": "code",
   "execution_count": null,
   "metadata": {},
   "outputs": [],
   "source": []
  }
 ],
 "metadata": {
  "kernelspec": {
   "display_name": "Python 3.9.7 ('base')",
   "language": "python",
   "name": "python3"
  },
  "language_info": {
   "codemirror_mode": {
    "name": "ipython",
    "version": 3
   },
   "file_extension": ".py",
   "mimetype": "text/x-python",
   "name": "python",
   "nbconvert_exporter": "python",
   "pygments_lexer": "ipython3",
   "version": "3.9.7"
  },
  "orig_nbformat": 4,
  "vscode": {
   "interpreter": {
    "hash": "e4cce46d6be9934fbd27f9ca0432556941ea5bdf741d4f4d64c6cd7f8dfa8fba"
   }
  }
 },
 "nbformat": 4,
 "nbformat_minor": 2
}
